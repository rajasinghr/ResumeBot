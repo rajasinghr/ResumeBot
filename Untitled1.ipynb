{
 "cells": [
  {
   "cell_type": "code",
   "execution_count": 6,
   "metadata": {},
   "outputs": [],
   "source": [
    "import nltk"
   ]
  },
  {
   "cell_type": "code",
   "execution_count": 7,
   "metadata": {},
   "outputs": [
    {
     "data": {
      "text/plain": [
       "[('Raja', 'NNP'), ('Singh', 'NNP'), ('.', '.')]"
      ]
     },
     "execution_count": 7,
     "metadata": {},
     "output_type": "execute_result"
    }
   ],
   "source": [
    "message = \"Raja Singh.\"\n",
    "tags = nltk.pos_tag(nltk.word_tokenize(message))\n",
    "tags"
   ]
  },
  {
   "cell_type": "code",
   "execution_count": 25,
   "metadata": {},
   "outputs": [],
   "source": [
    "message = 'I am jon'"
   ]
  },
  {
   "cell_type": "code",
   "execution_count": 26,
   "metadata": {},
   "outputs": [
    {
     "name": "stdout",
     "output_type": "stream",
     "text": [
      "('jon', 'JJ')\n",
      "Hi jon, Nice to meet you. You can ask questions to know about Raja Singh's professional career.\n"
     ]
    }
   ],
   "source": [
    "import spacy\n",
    "from spacy import displacy\n",
    "from collections import Counter\n",
    "import en_core_web_sm\n",
    "nlp = en_core_web_sm.load()\n",
    "doc = nlp(message)\n",
    "\n",
    "isEntity = False\n",
    "for entry in doc.ents:\n",
    "    if entry.label_ == 'PERSON':\n",
    "        print('Hi '+entry.text+\", Nice to meet you. You can ask questions to know about Raja Singh's professional career.\")\n",
    "        isEntity = True\n",
    "        break\n",
    "if not isEntity:\n",
    "    tags = nltk.pos_tag(nltk.word_tokenize(message))\n",
    "    currentIndex = 0\n",
    "    flag = False\n",
    "    for word, tag in tags:\n",
    "        if(tag == 'VBZ' or tag == 'VBP'):\n",
    "            flag = True\n",
    "            break\n",
    "        currentIndex+=1\n",
    "    if flag:\n",
    "        name = ''\n",
    "        for index in range(currentIndex+1,len(tags)):\n",
    "            if tags[index][1] == '.':\n",
    "                break\n",
    "            else:\n",
    "                print(tags[index])\n",
    "                name += ' '+tags[index][0]\n",
    "        print('Hi'+name+\", Nice to meet you. You can ask questions to know about Raja Singh's professional career.\")\n",
    "                "
   ]
  },
  {
   "cell_type": "code",
   "execution_count": 2,
   "metadata": {},
   "outputs": [],
   "source": [
    "from nltk.corpus import wordnet"
   ]
  },
  {
   "cell_type": "code",
   "execution_count": null,
   "metadata": {},
   "outputs": [],
   "source": [
    "syns = wordnet.synsets(\"graduate\")"
   ]
  },
  {
   "cell_type": "code",
   "execution_count": null,
   "metadata": {},
   "outputs": [],
   "source": []
  },
  {
   "cell_type": "code",
   "execution_count": 16,
   "metadata": {},
   "outputs": [
    {
     "name": "stdout",
     "output_type": "stream",
     "text": [
      "[]\n"
     ]
    }
   ],
   "source": [
    "doc = nlp('raja singh ravi')\n",
    "print([(X.text, X.label_) for X in doc.ents])"
   ]
  },
  {
   "cell_type": "code",
   "execution_count": 1,
   "metadata": {},
   "outputs": [],
   "source": [
    "from gingerit.gingerit import GingerIt\n",
    "\n"
   ]
  },
  {
   "cell_type": "code",
   "execution_count": 15,
   "metadata": {},
   "outputs": [
    {
     "data": {
      "text/plain": [
       "{'text': 'tel abt bachler education ',\n",
       " 'result': ' Tel about bachelor education',\n",
       " 'corrections': [{'text': 'te', 'correct': 'Tel', 'definition': None},\n",
       "  {'text': 'ab',\n",
       "   'correct': 'about',\n",
       "   'definition': '(of quantities) imprecise but fairly close to correct'},\n",
       "  {'text': 'bachle',\n",
       "   'correct': 'bachelor',\n",
       "   'definition': 'a man who has never been married'}]}"
      ]
     },
     "execution_count": 15,
     "metadata": {},
     "output_type": "execute_result"
    }
   ],
   "source": [
    "text = \"tel abt bachler education \"\n",
    "\n",
    "parser = GingerIt()\n",
    "parser.parse(text)"
   ]
  },
  {
   "cell_type": "code",
   "execution_count": null,
   "metadata": {},
   "outputs": [],
   "source": []
  },
  {
   "cell_type": "code",
   "execution_count": null,
   "metadata": {},
   "outputs": [],
   "source": []
  }
 ],
 "metadata": {
  "kernelspec": {
   "display_name": "Python 3",
   "language": "python",
   "name": "python3"
  },
  "language_info": {
   "codemirror_mode": {
    "name": "ipython",
    "version": 3
   },
   "file_extension": ".py",
   "mimetype": "text/x-python",
   "name": "python",
   "nbconvert_exporter": "python",
   "pygments_lexer": "ipython3",
   "version": "3.7.0"
  }
 },
 "nbformat": 4,
 "nbformat_minor": 2
}
