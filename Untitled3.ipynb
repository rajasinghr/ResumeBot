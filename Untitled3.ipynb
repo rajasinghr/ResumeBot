{
 "cells": [
  {
   "cell_type": "code",
   "execution_count": 3,
   "metadata": {},
   "outputs": [],
   "source": [
    "import os\n",
    "import hashlib\n",
    "import random\n"
   ]
  },
  {
   "cell_type": "code",
   "execution_count": 38,
   "metadata": {},
   "outputs": [],
   "source": [
    "\n",
    "randomWords = []\n",
    "\n",
    "\n",
    "dictFP = open('dictionary.txt', 'r')\n",
    "for line in dictFP:\n",
    "    randomWords.append(line.rstrip('\\n'))\n",
    "dictFP.close()\n",
    "\n",
    "passwordHash = []\n",
    "hashFP = open('passwords.txt', 'r')\n",
    "for line in hashFP:\n",
    "    passwordHash.append(line.rstrip('\\n'))\n",
    "hashFP.close()\n",
    "\n",
    "    \n",
    "\n",
    "result = set(())"
   ]
  },
  {
   "cell_type": "code",
   "execution_count": null,
   "metadata": {},
   "outputs": [],
   "source": []
  },
  {
   "cell_type": "code",
   "execution_count": 41,
   "metadata": {},
   "outputs": [
    {
     "name": "stdout",
     "output_type": "stream",
     "text": [
      "notwithstanding\n",
      "university\n",
      "sounding\n",
      "password\n"
     ]
    }
   ],
   "source": [
    "\n",
    "\n",
    "for index in range(len(randomWords)): \n",
    "    pwdHash = hashlib.sha1(randomWords[index].encode('utf-8')).hexdigest()\n",
    "    if pwdHash in passwordHash:\n",
    "        result.add(randomWords[index])\n",
    "        print(randomWords[index])\n",
    "    \n",
    "\n"
   ]
  },
  {
   "cell_type": "code",
   "execution_count": 48,
   "metadata": {},
   "outputs": [
    {
     "name": "stdout",
     "output_type": "stream",
     "text": [
      "lovedollars\n",
      "password\n",
      "washingtonartists\n",
      "callhoney\n",
      "sillymind\n",
      "sounding\n",
      "password\n"
     ]
    }
   ],
   "source": [
    "for index in range(len(randomWords)):\n",
    "    string1 = randomWords[index]\n",
    "    for index2 in range(len(randomWords)): \n",
    "        string = string1 + randomWords[index2]\n",
    "        pwdHash = hashlib.sha1(string.encode('utf-8')).hexdigest()\n",
    "        if pwdHash in passwordHash:\n",
    "            result.add(string)\n",
    "            print(string)\n"
   ]
  },
  {
   "cell_type": "code",
   "execution_count": null,
   "metadata": {},
   "outputs": [],
   "source": [
    "for index1 in range(len(randomWords)): \n",
    "    stringcom1 = randomWords[index1]\n",
    "    for index2 in range(len(randomWords)):\n",
    "        stringcom2 = randomWords[random.randint(0, 5578)]\n",
    "        stringcom3 = randomWords[random.randint(0, 5578)]\n",
    "\n",
    "        string1 = stringcom1 + stringcom2 + stringcom3\n",
    "        pwdHash = hashlib.sha1(string1.encode('utf-8')).hexdigest()\n",
    "        if pwdHash in passwordHash:\n",
    "            result.add(string1)\n",
    "            print(string1)\n"
   ]
  },
  {
   "cell_type": "code",
   "execution_count": 42,
   "metadata": {},
   "outputs": [
    {
     "name": "stdout",
     "output_type": "stream",
     "text": [
      "trick54321\n",
      "star0\n",
      "star0\n",
      "password123\n"
     ]
    }
   ],
   "source": [
    "\n",
    "numberList = [0, 1, 2, 3, 4, 5, 6, 7, 8, 9, 2000, 2001, 2006, 2007, 2008, 2009, 2010, 2011, 2012, 2013, 2014, 2015, 2016, 2017, 813, 123, 456, 789, 54321, 98765, 813974, 0000, 1111, 2222, 3333, 4444, 5555, 6666, 7777, 8888, 9999, 12345678,\n",
    "  1234567, 813974, 1021, 1234567890, 11, 12, 13, 14, 15, 16, 17, 18, 19, 20]\n",
    "\n",
    "for index1 in range(len(randomWords)): \n",
    "    str1 = randomWords[index1]\n",
    "    for index2 in range(len(numberList)): \n",
    "        str2 = numberList[index2]\n",
    "        str3 = str1 + str(str2)\n",
    "        pwdHash = hashlib.sha1(str3.encode('utf-8')).hexdigest()\n",
    "        if pwdHash in passwordHash:\n",
    "            result.add(str3)\n",
    "            print(str3)\n"
   ]
  },
  {
   "cell_type": "code",
   "execution_count": 43,
   "metadata": {},
   "outputs": [
    {
     "name": "stdout",
     "output_type": "stream",
     "text": [
      "20161021\n",
      "123456\n",
      "123\n"
     ]
    }
   ],
   "source": [
    "\n",
    "for index1 in range(len(numberList)): \n",
    "    str1 = numberList[index1]\n",
    "    for index2 in range(len(numberList)): \n",
    "        str2 = numberList[index2]\n",
    "        str3 = str(str1) + str(str2)\n",
    "        pwdHash = hashlib.sha1(str3.encode('utf-8')).hexdigest()\n",
    "        if pwdHash in passwordHash:\n",
    "            result.add(str3)\n",
    "            print(str3)"
   ]
  },
  {
   "cell_type": "code",
   "execution_count": 44,
   "metadata": {},
   "outputs": [
    {
     "name": "stdout",
     "output_type": "stream",
     "text": [
      "123\n",
      "813974\n",
      "1234567\n",
      "813974\n"
     ]
    }
   ],
   "source": [
    "\n",
    "for index1 in range(len(numberList)):\n",
    "    word = str(numberList[index1])\n",
    "    pwdHash = hashlib.sha1(word.encode('utf-8')).hexdigest()\n",
    "    if pwdHash in passwordHash:\n",
    "        result.add(word)\n",
    "        print(word)"
   ]
  },
  {
   "cell_type": "code",
   "execution_count": 45,
   "metadata": {},
   "outputs": [],
   "source": [
    "\n",
    "\n",
    "for index in range((20 * len(randomWords))):\n",
    "    stringcom1 = randomWords[random.randint(0, 5578)] \n",
    "    stringcom2 = randomWords[random.randint(0, 5578)]\n",
    "    word = stringcom1 + stringcom2 + str(numberList[random.randint(0, 54)]) \n",
    "    pwdHash = hashlib.sha1(word.encode('utf-8')).hexdigest()\n",
    "    if pwdHash in passwordHash:\n",
    "        result.add(word)\n",
    "        print(word)"
   ]
  },
  {
   "cell_type": "code",
   "execution_count": 46,
   "metadata": {},
   "outputs": [
    {
     "name": "stdout",
     "output_type": "stream",
     "text": [
      "123\n",
      "813974\n",
      "1234567\n",
      "123\n",
      "813974\n",
      "123\n",
      "813974\n",
      "1234567\n",
      "813974\n",
      "1234567\n",
      "1234567\n",
      "813974\n",
      "123\n",
      "813974\n",
      "813974\n",
      "813974\n",
      "1234567\n",
      "123\n",
      "813974\n",
      "123\n",
      "813974\n",
      "813974\n",
      "123\n",
      "813974\n",
      "813974\n",
      "1234567\n",
      "123\n",
      "813974\n"
     ]
    }
   ],
   "source": [
    "\n",
    "for index in range(20 * len(randomWords)):\n",
    "    strnumb1 = numberList[random.randint(0, 54)] \n",
    "    strnumb2 = numberList[random.randint(0, 54)] \n",
    "    strnumb3 = numberList[random.randint(0, 54)]\n",
    "    word = str(strnumb1 + strnumb2 + strnumb3) \n",
    "    pwdHash = hashlib.sha1(word.encode('utf-8')).hexdigest()\n",
    "    if pwdHash in passwordHash:\n",
    "        result.add(word)\n",
    "        print(word)"
   ]
  },
  {
   "cell_type": "code",
   "execution_count": 49,
   "metadata": {},
   "outputs": [
    {
     "data": {
      "text/plain": [
       "{'123',\n",
       " '123456',\n",
       " '1234567',\n",
       " '20161021',\n",
       " '813974',\n",
       " 'callhoney',\n",
       " 'lovedollars',\n",
       " 'notwithstanding',\n",
       " 'password',\n",
       " 'password123',\n",
       " 'sillymind',\n",
       " 'sounding',\n",
       " 'star0',\n",
       " 'trick54321',\n",
       " 'university',\n",
       " 'washingtonartists'}"
      ]
     },
     "execution_count": 49,
     "metadata": {},
     "output_type": "execute_result"
    }
   ],
   "source": [
    "result"
   ]
  },
  {
   "cell_type": "code",
   "execution_count": 54,
   "metadata": {},
   "outputs": [
    {
     "name": "stdout",
     "output_type": "stream",
     "text": [
      "star0\n",
      "123456\n",
      "sounding\n",
      "sillymind\n",
      "university\n",
      "washingtonartists\n",
      "callhoney\n",
      "20161021\n",
      "123\n",
      "notwithstanding\n",
      "1234567\n",
      "813974\n",
      "password123\n",
      "lovedollars\n",
      "trick54321\n",
      "password\n"
     ]
    }
   ],
   "source": [
    "passwordFP = open('decrypteds.txt', 'a+')\n",
    "for res in result:\n",
    "    print(res)\n",
    "    passwordFP.write(res+'\\r\\n')\n",
    "passwordFP.close()\n"
   ]
  },
  {
   "cell_type": "code",
   "execution_count": null,
   "metadata": {},
   "outputs": [],
   "source": []
  }
 ],
 "metadata": {
  "kernelspec": {
   "display_name": "Python 3",
   "language": "python",
   "name": "python3"
  },
  "language_info": {
   "codemirror_mode": {
    "name": "ipython",
    "version": 3
   },
   "file_extension": ".py",
   "mimetype": "text/x-python",
   "name": "python",
   "nbconvert_exporter": "python",
   "pygments_lexer": "ipython3",
   "version": "3.7.0"
  }
 },
 "nbformat": 4,
 "nbformat_minor": 2
}
